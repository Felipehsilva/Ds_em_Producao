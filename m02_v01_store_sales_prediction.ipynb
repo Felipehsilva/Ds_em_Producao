{
 "cells": [
  {
   "cell_type": "markdown",
   "id": "cbd14559",
   "metadata": {},
   "source": [
    "# 0.0. IMPORTS"
   ]
  },
  {
   "cell_type": "code",
   "execution_count": 1,
   "id": "59a25b02",
   "metadata": {
    "ExecuteTime": {
     "end_time": "2021-09-18T19:54:54.022489Z",
     "start_time": "2021-09-18T19:54:52.501282Z"
    }
   },
   "outputs": [],
   "source": [
    "import pandas as pd\n",
    "import inflection\n",
    "import math"
   ]
  },
  {
   "cell_type": "markdown",
   "id": "8354d4a7",
   "metadata": {},
   "source": [
    "## 0.1. Helper Functions"
   ]
  },
  {
   "cell_type": "code",
   "execution_count": null,
   "id": "451d77b3",
   "metadata": {},
   "outputs": [],
   "source": []
  },
  {
   "cell_type": "markdown",
   "id": "df61d250",
   "metadata": {},
   "source": [
    "## 0.2. Loading data"
   ]
  },
  {
   "cell_type": "code",
   "execution_count": 2,
   "id": "38cbb9b8",
   "metadata": {
    "ExecuteTime": {
     "end_time": "2021-09-18T19:54:58.974213Z",
     "start_time": "2021-09-18T19:54:56.345739Z"
    }
   },
   "outputs": [],
   "source": [
    "#low_memory = False fala pra função read csv ler todo o arquivo de uma vez só para a memoria\n",
    "df_sales_raw = pd.read_csv('data/train.csv',low_memory= False)\n",
    "df_store_raw = pd.read_csv('data/store.csv',low_memory= False)\n",
    "\n",
    "#merge (primeiro argumento o arquivo referencia + arquivo que será anexado a referencia, \n",
    "#depois informo como será feito o merge, no caso left e a coluna que será feito, \n",
    "#que deve ser igual em ambos datasets, no caso store)\n",
    "df_raw = pd.merge (df_sales_raw, df_store_raw, how = 'left', on = 'Store')"
   ]
  },
  {
   "cell_type": "code",
   "execution_count": 3,
   "id": "90779800",
   "metadata": {
    "ExecuteTime": {
     "end_time": "2021-09-18T19:55:00.498212Z",
     "start_time": "2021-09-18T19:54:58.979118Z"
    }
   },
   "outputs": [
    {
     "data": {
      "text/html": [
       "<div>\n",
       "<style scoped>\n",
       "    .dataframe tbody tr th:only-of-type {\n",
       "        vertical-align: middle;\n",
       "    }\n",
       "\n",
       "    .dataframe tbody tr th {\n",
       "        vertical-align: top;\n",
       "    }\n",
       "\n",
       "    .dataframe thead th {\n",
       "        text-align: right;\n",
       "    }\n",
       "</style>\n",
       "<table border=\"1\" class=\"dataframe\">\n",
       "  <thead>\n",
       "    <tr style=\"text-align: right;\">\n",
       "      <th></th>\n",
       "      <th>Store</th>\n",
       "      <th>DayOfWeek</th>\n",
       "      <th>Date</th>\n",
       "      <th>Sales</th>\n",
       "      <th>Customers</th>\n",
       "      <th>Open</th>\n",
       "      <th>Promo</th>\n",
       "      <th>StateHoliday</th>\n",
       "      <th>SchoolHoliday</th>\n",
       "      <th>StoreType</th>\n",
       "      <th>Assortment</th>\n",
       "      <th>CompetitionDistance</th>\n",
       "      <th>CompetitionOpenSinceMonth</th>\n",
       "      <th>CompetitionOpenSinceYear</th>\n",
       "      <th>Promo2</th>\n",
       "      <th>Promo2SinceWeek</th>\n",
       "      <th>Promo2SinceYear</th>\n",
       "      <th>PromoInterval</th>\n",
       "    </tr>\n",
       "  </thead>\n",
       "  <tbody>\n",
       "    <tr>\n",
       "      <th>489925</th>\n",
       "      <td>111</td>\n",
       "      <td>5</td>\n",
       "      <td>2014-04-18</td>\n",
       "      <td>0</td>\n",
       "      <td>0</td>\n",
       "      <td>0</td>\n",
       "      <td>1</td>\n",
       "      <td>b</td>\n",
       "      <td>1</td>\n",
       "      <td>d</td>\n",
       "      <td>c</td>\n",
       "      <td>7890.0</td>\n",
       "      <td>NaN</td>\n",
       "      <td>NaN</td>\n",
       "      <td>1</td>\n",
       "      <td>37.0</td>\n",
       "      <td>2009.0</td>\n",
       "      <td>Jan,Apr,Jul,Oct</td>\n",
       "    </tr>\n",
       "  </tbody>\n",
       "</table>\n",
       "</div>"
      ],
      "text/plain": [
       "        Store  DayOfWeek        Date  Sales  Customers  Open  Promo  \\\n",
       "489925    111          5  2014-04-18      0          0     0      1   \n",
       "\n",
       "       StateHoliday  SchoolHoliday StoreType Assortment  CompetitionDistance  \\\n",
       "489925            b              1         d          c               7890.0   \n",
       "\n",
       "        CompetitionOpenSinceMonth  CompetitionOpenSinceYear  Promo2  \\\n",
       "489925                        NaN                       NaN       1   \n",
       "\n",
       "        Promo2SinceWeek  Promo2SinceYear    PromoInterval  \n",
       "489925             37.0           2009.0  Jan,Apr,Jul,Oct  "
      ]
     },
     "execution_count": 3,
     "metadata": {},
     "output_type": "execute_result"
    }
   ],
   "source": [
    "df_raw.sample()"
   ]
  },
  {
   "cell_type": "markdown",
   "id": "37a20441",
   "metadata": {
    "ExecuteTime": {
     "end_time": "2021-09-17T20:12:19.189451Z",
     "start_time": "2021-09-17T20:12:19.172921Z"
    }
   },
   "source": [
    "# 1.0. DESCRICAO DOS DADOS"
   ]
  },
  {
   "cell_type": "code",
   "execution_count": 4,
   "id": "c367f3ff",
   "metadata": {
    "ExecuteTime": {
     "end_time": "2021-09-18T19:55:00.627329Z",
     "start_time": "2021-09-18T19:55:00.505667Z"
    }
   },
   "outputs": [],
   "source": [
    "df1 = df_raw.copy()"
   ]
  },
  {
   "cell_type": "markdown",
   "id": "45150be9",
   "metadata": {},
   "source": [
    "## 1.1. Rename Columns"
   ]
  },
  {
   "cell_type": "code",
   "execution_count": 5,
   "id": "9f27be93",
   "metadata": {
    "ExecuteTime": {
     "end_time": "2021-09-18T19:55:00.649350Z",
     "start_time": "2021-09-18T19:55:00.631628Z"
    }
   },
   "outputs": [
    {
     "data": {
      "text/plain": [
       "Index(['Store', 'DayOfWeek', 'Date', 'Sales', 'Customers', 'Open', 'Promo',\n",
       "       'StateHoliday', 'SchoolHoliday', 'StoreType', 'Assortment',\n",
       "       'CompetitionDistance', 'CompetitionOpenSinceMonth',\n",
       "       'CompetitionOpenSinceYear', 'Promo2', 'Promo2SinceWeek',\n",
       "       'Promo2SinceYear', 'PromoInterval'],\n",
       "      dtype='object')"
      ]
     },
     "execution_count": 5,
     "metadata": {},
     "output_type": "execute_result"
    }
   ],
   "source": [
    "df1.columns"
   ]
  },
  {
   "cell_type": "code",
   "execution_count": 6,
   "id": "7c5c135d",
   "metadata": {
    "ExecuteTime": {
     "end_time": "2021-09-18T19:55:02.788632Z",
     "start_time": "2021-09-18T19:55:02.778335Z"
    }
   },
   "outputs": [],
   "source": [
    "cols_old = ['Store', 'DayOfWeek', 'Date', 'Sales', 'Customers', 'Open', 'Promo',\n",
    "           'StateHoliday', 'SchoolHoliday', 'StoreType', 'Assortment',\n",
    "           'CompetitionDistance', 'CompetitionOpenSinceMonth',\n",
    "           'CompetitionOpenSinceYear', 'Promo2', 'Promo2SinceWeek',\n",
    "           'Promo2SinceYear', 'PromoInterval'] \n",
    "\n",
    "snakecase = lambda x: inflection.underscore(x)\n",
    "cols_new = list (map(snakecase,cols_old))\n",
    "\n",
    "#rename\n",
    "df1.columns = cols_new\n"
   ]
  },
  {
   "cell_type": "markdown",
   "id": "f5d2e88d",
   "metadata": {},
   "source": [
    "## 1.2. Data Dimensions"
   ]
  },
  {
   "cell_type": "code",
   "execution_count": 7,
   "id": "8a7fea4d",
   "metadata": {
    "ExecuteTime": {
     "end_time": "2021-09-18T19:55:06.983881Z",
     "start_time": "2021-09-18T19:55:06.973410Z"
    }
   },
   "outputs": [
    {
     "name": "stdout",
     "output_type": "stream",
     "text": [
      "Number of Rows: 1017209\n",
      "Number of Cols: 18\n"
     ]
    }
   ],
   "source": [
    "print('Number of Rows: {}'.format(df1.shape[0]))\n",
    "print('Number of Cols: {}'.format(df1.shape[1]))"
   ]
  },
  {
   "cell_type": "markdown",
   "id": "17bf567e",
   "metadata": {},
   "source": [
    "## 1.3. Data Types"
   ]
  },
  {
   "cell_type": "code",
   "execution_count": 8,
   "id": "75e5da02",
   "metadata": {
    "ExecuteTime": {
     "end_time": "2021-09-18T19:55:08.541042Z",
     "start_time": "2021-09-18T19:55:08.524243Z"
    }
   },
   "outputs": [
    {
     "data": {
      "text/plain": [
       "store                             int64\n",
       "day_of_week                       int64\n",
       "date                             object\n",
       "sales                             int64\n",
       "customers                         int64\n",
       "open                              int64\n",
       "promo                             int64\n",
       "state_holiday                    object\n",
       "school_holiday                    int64\n",
       "store_type                       object\n",
       "assortment                       object\n",
       "competition_distance            float64\n",
       "competition_open_since_month    float64\n",
       "competition_open_since_year     float64\n",
       "promo2                            int64\n",
       "promo2_since_week               float64\n",
       "promo2_since_year               float64\n",
       "promo_interval                   object\n",
       "dtype: object"
      ]
     },
     "execution_count": 8,
     "metadata": {},
     "output_type": "execute_result"
    }
   ],
   "source": [
    "df1.dtypes"
   ]
  },
  {
   "cell_type": "code",
   "execution_count": 9,
   "id": "491ebc3a",
   "metadata": {
    "ExecuteTime": {
     "end_time": "2021-09-18T19:55:11.092293Z",
     "start_time": "2021-09-18T19:55:10.919722Z"
    }
   },
   "outputs": [],
   "source": [
    "df1['date'] = pd.to_datetime(df1['date'])"
   ]
  },
  {
   "cell_type": "markdown",
   "id": "1ba1739e",
   "metadata": {},
   "source": [
    "## 1.4. Check NA"
   ]
  },
  {
   "cell_type": "code",
   "execution_count": 10,
   "id": "07cbb17b",
   "metadata": {
    "ExecuteTime": {
     "end_time": "2021-09-18T19:55:13.069418Z",
     "start_time": "2021-09-18T19:55:12.838231Z"
    }
   },
   "outputs": [
    {
     "data": {
      "text/plain": [
       "store                                0\n",
       "day_of_week                          0\n",
       "date                                 0\n",
       "sales                                0\n",
       "customers                            0\n",
       "open                                 0\n",
       "promo                                0\n",
       "state_holiday                        0\n",
       "school_holiday                       0\n",
       "store_type                           0\n",
       "assortment                           0\n",
       "competition_distance              2642\n",
       "competition_open_since_month    323348\n",
       "competition_open_since_year     323348\n",
       "promo2                               0\n",
       "promo2_since_week               508031\n",
       "promo2_since_year               508031\n",
       "promo_interval                  508031\n",
       "dtype: int64"
      ]
     },
     "execution_count": 10,
     "metadata": {},
     "output_type": "execute_result"
    }
   ],
   "source": [
    "df1.isna().sum()"
   ]
  },
  {
   "cell_type": "markdown",
   "id": "da8fd192",
   "metadata": {},
   "source": [
    "## 1.5. Fillout NA"
   ]
  },
  {
   "cell_type": "code",
   "execution_count": 11,
   "id": "0cbeec9c",
   "metadata": {
    "ExecuteTime": {
     "end_time": "2021-09-18T19:55:17.420882Z",
     "start_time": "2021-09-18T19:55:17.407027Z"
    }
   },
   "outputs": [
    {
     "data": {
      "text/plain": [
       "75860.0"
      ]
     },
     "execution_count": 11,
     "metadata": {},
     "output_type": "execute_result"
    }
   ],
   "source": [
    "df1['competition_distance'].max()"
   ]
  },
  {
   "cell_type": "code",
   "execution_count": 21,
   "id": "9da52f33",
   "metadata": {
    "ExecuteTime": {
     "end_time": "2021-09-18T20:18:41.893879Z",
     "start_time": "2021-09-18T20:16:26.701927Z"
    }
   },
   "outputs": [],
   "source": [
    "# competition_distance (quando não tiver uma loja competidora nas redondezas um valor muito grande será adicionado)\n",
    "df1['competition_distance'] = df1['competition_distance'].apply(lambda x: 200000.0 if math.isnan(x) \n",
    "                                                                                   else x)\n",
    "\n",
    "\n",
    "# competition_open_since_month  (mês e ano que o competidor mais proximo foi aberto)- vou assumir que se não tiver data\n",
    "    #irei assumir o mesmo mes da variavel date\n",
    "    #adicionado axis=1 pois ao contrario do comando anterior , irei usar mais de uma coluna, ou seja explicito que será  feito ao longo das colunas\n",
    "df1['competition_open_since_month'] = df1.apply(lambda x: x['date'].month if math.isnan(x['competition_open_since_month']) else x['competition_open_since_month'],axis=1)     \n",
    "# competition_open_since_year \n",
    "df1['competition_open_since_year'] = df1.apply(lambda x: x['date'].year if math.isnan(x['competition_open_since_year']) else x['competition_open_since_year'],axis=1)\n",
    "                              \n",
    "# promo2_since_week  descreve o ano e semana do calendario quando começou a participar da promo 2. Vou pegar o mês de date\n",
    "df1['promo2_since_week'] = df1.apply(lambda x: x['date'].week if math.isnan(x['promo2_since_week']) else x['promo2_since_week'],axis=1)\n",
    "\n",
    "# promo2_since_year  \n",
    "df1['promo2_since_year'] = df1.apply(lambda x: x['date'].year if math.isnan(x['promo2_since_year']) else x['promo2_since_year'],axis=1)\n",
    "\n",
    "\n",
    "# promo_interval (meses em que a promo 2 ficou ativa)\n",
    "month_map = {1: 'Jan',2: 'Feb',3: 'Mar',4: 'Apr',5: 'May',6: 'Jun',7: 'Jul',8: 'Aug',9: 'Sep',10: 'Oct',11: 'Nov',12: 'Dec'}\n",
    "\n",
    "df1['promo_interval'].fillna(0, inplace = True) #inplace = True não retorna valor, faz a modificação direto na coluna\n",
    "df1['month_map'] = df1['date'].dt.month.map(month_map)\n",
    "\n",
    "df1['is_promo'] = df1[['promo_interval','month_map']].apply(lambda x:0 if x['promo_interval'] == 0 else 1 if x['month_map'] in x['promo_interval'].split(',') else 0, axis = 1)\n"
   ]
  },
  {
   "cell_type": "code",
   "execution_count": 20,
   "id": "a1c112a7",
   "metadata": {
    "ExecuteTime": {
     "end_time": "2021-09-18T20:15:03.742136Z",
     "start_time": "2021-09-18T20:15:03.523287Z"
    }
   },
   "outputs": [
    {
     "data": {
      "text/html": [
       "<div>\n",
       "<style scoped>\n",
       "    .dataframe tbody tr th:only-of-type {\n",
       "        vertical-align: middle;\n",
       "    }\n",
       "\n",
       "    .dataframe tbody tr th {\n",
       "        vertical-align: top;\n",
       "    }\n",
       "\n",
       "    .dataframe thead th {\n",
       "        text-align: right;\n",
       "    }\n",
       "</style>\n",
       "<table border=\"1\" class=\"dataframe\">\n",
       "  <thead>\n",
       "    <tr style=\"text-align: right;\">\n",
       "      <th></th>\n",
       "      <th>600859</th>\n",
       "      <th>537491</th>\n",
       "      <th>400028</th>\n",
       "      <th>695204</th>\n",
       "      <th>470103</th>\n",
       "    </tr>\n",
       "  </thead>\n",
       "  <tbody>\n",
       "    <tr>\n",
       "      <th>store</th>\n",
       "      <td>660</td>\n",
       "      <td>847</td>\n",
       "      <td>27</td>\n",
       "      <td>230</td>\n",
       "      <td>359</td>\n",
       "    </tr>\n",
       "    <tr>\n",
       "      <th>day_of_week</th>\n",
       "      <td>4</td>\n",
       "      <td>5</td>\n",
       "      <td>3</td>\n",
       "      <td>3</td>\n",
       "      <td>2</td>\n",
       "    </tr>\n",
       "    <tr>\n",
       "      <th>date</th>\n",
       "      <td>2014-01-09 00:00:00</td>\n",
       "      <td>2014-03-07 00:00:00</td>\n",
       "      <td>2014-07-09 00:00:00</td>\n",
       "      <td>2013-10-16 00:00:00</td>\n",
       "      <td>2014-05-06 00:00:00</td>\n",
       "    </tr>\n",
       "    <tr>\n",
       "      <th>sales</th>\n",
       "      <td>5759</td>\n",
       "      <td>7890</td>\n",
       "      <td>6531</td>\n",
       "      <td>5789</td>\n",
       "      <td>7347</td>\n",
       "    </tr>\n",
       "    <tr>\n",
       "      <th>customers</th>\n",
       "      <td>617</td>\n",
       "      <td>1079</td>\n",
       "      <td>822</td>\n",
       "      <td>794</td>\n",
       "      <td>605</td>\n",
       "    </tr>\n",
       "    <tr>\n",
       "      <th>open</th>\n",
       "      <td>1</td>\n",
       "      <td>1</td>\n",
       "      <td>1</td>\n",
       "      <td>1</td>\n",
       "      <td>1</td>\n",
       "    </tr>\n",
       "    <tr>\n",
       "      <th>promo</th>\n",
       "      <td>1</td>\n",
       "      <td>1</td>\n",
       "      <td>0</td>\n",
       "      <td>0</td>\n",
       "      <td>1</td>\n",
       "    </tr>\n",
       "    <tr>\n",
       "      <th>state_holiday</th>\n",
       "      <td>0</td>\n",
       "      <td>0</td>\n",
       "      <td>0</td>\n",
       "      <td>0</td>\n",
       "      <td>0</td>\n",
       "    </tr>\n",
       "    <tr>\n",
       "      <th>school_holiday</th>\n",
       "      <td>0</td>\n",
       "      <td>0</td>\n",
       "      <td>1</td>\n",
       "      <td>1</td>\n",
       "      <td>0</td>\n",
       "    </tr>\n",
       "    <tr>\n",
       "      <th>store_type</th>\n",
       "      <td>a</td>\n",
       "      <td>c</td>\n",
       "      <td>a</td>\n",
       "      <td>d</td>\n",
       "      <td>d</td>\n",
       "    </tr>\n",
       "    <tr>\n",
       "      <th>assortment</th>\n",
       "      <td>a</td>\n",
       "      <td>c</td>\n",
       "      <td>a</td>\n",
       "      <td>c</td>\n",
       "      <td>c</td>\n",
       "    </tr>\n",
       "    <tr>\n",
       "      <th>competition_distance</th>\n",
       "      <td>1200.0</td>\n",
       "      <td>190.0</td>\n",
       "      <td>60.0</td>\n",
       "      <td>6680.0</td>\n",
       "      <td>4370.0</td>\n",
       "    </tr>\n",
       "    <tr>\n",
       "      <th>competition_open_since_month</th>\n",
       "      <td>11.0</td>\n",
       "      <td>3.0</td>\n",
       "      <td>1.0</td>\n",
       "      <td>9.0</td>\n",
       "      <td>5.0</td>\n",
       "    </tr>\n",
       "    <tr>\n",
       "      <th>competition_open_since_year</th>\n",
       "      <td>2006.0</td>\n",
       "      <td>2014.0</td>\n",
       "      <td>2005.0</td>\n",
       "      <td>2013.0</td>\n",
       "      <td>2014.0</td>\n",
       "    </tr>\n",
       "    <tr>\n",
       "      <th>promo2</th>\n",
       "      <td>1</td>\n",
       "      <td>1</td>\n",
       "      <td>1</td>\n",
       "      <td>0</td>\n",
       "      <td>0</td>\n",
       "    </tr>\n",
       "    <tr>\n",
       "      <th>promo2_since_week</th>\n",
       "      <td>40.0</td>\n",
       "      <td>31.0</td>\n",
       "      <td>5.0</td>\n",
       "      <td>42.0</td>\n",
       "      <td>19.0</td>\n",
       "    </tr>\n",
       "    <tr>\n",
       "      <th>promo2_since_year</th>\n",
       "      <td>2014.0</td>\n",
       "      <td>2013.0</td>\n",
       "      <td>2011.0</td>\n",
       "      <td>2013.0</td>\n",
       "      <td>2014.0</td>\n",
       "    </tr>\n",
       "    <tr>\n",
       "      <th>promo_interval</th>\n",
       "      <td>Jan,Apr,Jul,Oct</td>\n",
       "      <td>Feb,May,Aug,Nov</td>\n",
       "      <td>Jan,Apr,Jul,Oct</td>\n",
       "      <td>0</td>\n",
       "      <td>0</td>\n",
       "    </tr>\n",
       "    <tr>\n",
       "      <th>month_map</th>\n",
       "      <td>Jan</td>\n",
       "      <td>Mar</td>\n",
       "      <td>Jul</td>\n",
       "      <td>Oct</td>\n",
       "      <td>May</td>\n",
       "    </tr>\n",
       "    <tr>\n",
       "      <th>is_promo</th>\n",
       "      <td>1</td>\n",
       "      <td>0</td>\n",
       "      <td>1</td>\n",
       "      <td>0</td>\n",
       "      <td>0</td>\n",
       "    </tr>\n",
       "  </tbody>\n",
       "</table>\n",
       "</div>"
      ],
      "text/plain": [
       "                                           600859               537491  \\\n",
       "store                                         660                  847   \n",
       "day_of_week                                     4                    5   \n",
       "date                          2014-01-09 00:00:00  2014-03-07 00:00:00   \n",
       "sales                                        5759                 7890   \n",
       "customers                                     617                 1079   \n",
       "open                                            1                    1   \n",
       "promo                                           1                    1   \n",
       "state_holiday                                   0                    0   \n",
       "school_holiday                                  0                    0   \n",
       "store_type                                      a                    c   \n",
       "assortment                                      a                    c   \n",
       "competition_distance                       1200.0                190.0   \n",
       "competition_open_since_month                 11.0                  3.0   \n",
       "competition_open_since_year                2006.0               2014.0   \n",
       "promo2                                          1                    1   \n",
       "promo2_since_week                            40.0                 31.0   \n",
       "promo2_since_year                          2014.0               2013.0   \n",
       "promo_interval                    Jan,Apr,Jul,Oct      Feb,May,Aug,Nov   \n",
       "month_map                                     Jan                  Mar   \n",
       "is_promo                                        1                    0   \n",
       "\n",
       "                                           400028               695204  \\\n",
       "store                                          27                  230   \n",
       "day_of_week                                     3                    3   \n",
       "date                          2014-07-09 00:00:00  2013-10-16 00:00:00   \n",
       "sales                                        6531                 5789   \n",
       "customers                                     822                  794   \n",
       "open                                            1                    1   \n",
       "promo                                           0                    0   \n",
       "state_holiday                                   0                    0   \n",
       "school_holiday                                  1                    1   \n",
       "store_type                                      a                    d   \n",
       "assortment                                      a                    c   \n",
       "competition_distance                         60.0               6680.0   \n",
       "competition_open_since_month                  1.0                  9.0   \n",
       "competition_open_since_year                2005.0               2013.0   \n",
       "promo2                                          1                    0   \n",
       "promo2_since_week                             5.0                 42.0   \n",
       "promo2_since_year                          2011.0               2013.0   \n",
       "promo_interval                    Jan,Apr,Jul,Oct                    0   \n",
       "month_map                                     Jul                  Oct   \n",
       "is_promo                                        1                    0   \n",
       "\n",
       "                                           470103  \n",
       "store                                         359  \n",
       "day_of_week                                     2  \n",
       "date                          2014-05-06 00:00:00  \n",
       "sales                                        7347  \n",
       "customers                                     605  \n",
       "open                                            1  \n",
       "promo                                           1  \n",
       "state_holiday                                   0  \n",
       "school_holiday                                  0  \n",
       "store_type                                      d  \n",
       "assortment                                      c  \n",
       "competition_distance                       4370.0  \n",
       "competition_open_since_month                  5.0  \n",
       "competition_open_since_year                2014.0  \n",
       "promo2                                          0  \n",
       "promo2_since_week                            19.0  \n",
       "promo2_since_year                          2014.0  \n",
       "promo_interval                                  0  \n",
       "month_map                                     May  \n",
       "is_promo                                        0  "
      ]
     },
     "execution_count": 20,
     "metadata": {},
     "output_type": "execute_result"
    }
   ],
   "source": [
    "df1.sample(5).T"
   ]
  },
  {
   "cell_type": "code",
   "execution_count": 22,
   "id": "06abddf5",
   "metadata": {
    "ExecuteTime": {
     "end_time": "2021-09-18T20:19:47.623864Z",
     "start_time": "2021-09-18T20:19:47.323971Z"
    }
   },
   "outputs": [
    {
     "data": {
      "text/plain": [
       "store                           0\n",
       "day_of_week                     0\n",
       "date                            0\n",
       "sales                           0\n",
       "customers                       0\n",
       "open                            0\n",
       "promo                           0\n",
       "state_holiday                   0\n",
       "school_holiday                  0\n",
       "store_type                      0\n",
       "assortment                      0\n",
       "competition_distance            0\n",
       "competition_open_since_month    0\n",
       "competition_open_since_year     0\n",
       "promo2                          0\n",
       "promo2_since_week               0\n",
       "promo2_since_year               0\n",
       "promo_interval                  0\n",
       "month_map                       0\n",
       "is_promo                        0\n",
       "dtype: int64"
      ]
     },
     "execution_count": 22,
     "metadata": {},
     "output_type": "execute_result"
    }
   ],
   "source": [
    "df1.isna().sum()"
   ]
  },
  {
   "cell_type": "code",
   "execution_count": null,
   "id": "75a2b8df",
   "metadata": {},
   "outputs": [],
   "source": []
  }
 ],
 "metadata": {
  "kernelspec": {
   "display_name": "Python 3 (ipykernel)",
   "language": "python",
   "name": "python3"
  },
  "language_info": {
   "codemirror_mode": {
    "name": "ipython",
    "version": 3
   },
   "file_extension": ".py",
   "mimetype": "text/x-python",
   "name": "python",
   "nbconvert_exporter": "python",
   "pygments_lexer": "ipython3",
   "version": "3.9.7"
  }
 },
 "nbformat": 4,
 "nbformat_minor": 5
}
